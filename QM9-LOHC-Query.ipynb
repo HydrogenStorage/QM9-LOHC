{
 "cells": [
  {
   "cell_type": "code",
   "execution_count": 41,
   "metadata": {
    "colab": {
     "base_uri": "https://localhost:8080/",
     "height": 298
    },
    "executionInfo": {
     "elapsed": 119,
     "status": "ok",
     "timestamp": 1708613431277,
     "user": {
      "displayName": "Hassan Harb",
      "userId": "12664388221851730801"
     },
     "user_tz": 360
    },
    "id": "v33MQ4JXMpdO",
    "outputId": "e921c87a-4be8-45f0-cf24-0a8a32d02300"
   },
   "outputs": [
    {
     "name": "stdout",
     "output_type": "stream",
     "text": [
      "Unsaturated SMILES:  OC1=CN=CC=N1\n",
      "Saturated SMILES:  OC1CNCCN1\n",
      "deltaH: 45.09\n",
      "%wt H2: 5.92\n"
     ]
    },
    {
     "data": {
      "image/svg+xml": [
       "<svg xmlns=\"http://www.w3.org/2000/svg\" xmlns:rdkit=\"http://www.rdkit.org/xml\" xmlns:xlink=\"http://www.w3.org/1999/xlink\" version=\"1.1\" baseProfile=\"full\" xml:space=\"preserve\" width=\"2000px\" height=\"200px\" viewBox=\"0 0 2000 200\">\n",
       "<!-- END OF HEADER -->\n",
       "<rect style=\"opacity:1.0;fill:#FFFFFF;stroke:none\" width=\"2000.0\" height=\"200.0\" x=\"0.0\" y=\"0.0\"> </rect>\n",
       "<path class=\"bond-0 atom-0 atom-1\" d=\"M 160.4,100.0 L 138.2,100.0\" style=\"fill:none;fill-rule:evenodd;stroke:#FF0000;stroke-width:2.0px;stroke-linecap:butt;stroke-linejoin:miter;stroke-opacity:1\"/>\n",
       "<path class=\"bond-0 atom-0 atom-1\" d=\"M 138.2,100.0 L 116.0,100.0\" style=\"fill:none;fill-rule:evenodd;stroke:#000000;stroke-width:2.0px;stroke-linecap:butt;stroke-linejoin:miter;stroke-opacity:1\"/>\n",
       "<path class=\"bond-1 atom-1 atom-2\" d=\"M 116.0,100.0 L 89.5,145.9\" style=\"fill:none;fill-rule:evenodd;stroke:#000000;stroke-width:2.0px;stroke-linecap:butt;stroke-linejoin:miter;stroke-opacity:1\"/>\n",
       "<path class=\"bond-1 atom-1 atom-2\" d=\"M 106.8,100.0 L 84.9,138.0\" style=\"fill:none;fill-rule:evenodd;stroke:#000000;stroke-width:2.0px;stroke-linecap:butt;stroke-linejoin:miter;stroke-opacity:1\"/>\n",
       "<path class=\"bond-2 atom-2 atom-3\" d=\"M 89.5,145.9 L 66.7,145.9\" style=\"fill:none;fill-rule:evenodd;stroke:#000000;stroke-width:2.0px;stroke-linecap:butt;stroke-linejoin:miter;stroke-opacity:1\"/>\n",
       "<path class=\"bond-2 atom-2 atom-3\" d=\"M 66.7,145.9 L 43.9,145.9\" style=\"fill:none;fill-rule:evenodd;stroke:#0000FF;stroke-width:2.0px;stroke-linecap:butt;stroke-linejoin:miter;stroke-opacity:1\"/>\n",
       "<path class=\"bond-3 atom-3 atom-4\" d=\"M 31.2,136.7 L 20.6,118.3\" style=\"fill:none;fill-rule:evenodd;stroke:#0000FF;stroke-width:2.0px;stroke-linecap:butt;stroke-linejoin:miter;stroke-opacity:1\"/>\n",
       "<path class=\"bond-3 atom-3 atom-4\" d=\"M 20.6,118.3 L 10.0,100.0\" style=\"fill:none;fill-rule:evenodd;stroke:#000000;stroke-width:2.0px;stroke-linecap:butt;stroke-linejoin:miter;stroke-opacity:1\"/>\n",
       "<path class=\"bond-3 atom-3 atom-4\" d=\"M 38.0,132.7 L 28.6,116.3\" style=\"fill:none;fill-rule:evenodd;stroke:#0000FF;stroke-width:2.0px;stroke-linecap:butt;stroke-linejoin:miter;stroke-opacity:1\"/>\n",
       "<path class=\"bond-3 atom-3 atom-4\" d=\"M 28.6,116.3 L 19.2,100.0\" style=\"fill:none;fill-rule:evenodd;stroke:#000000;stroke-width:2.0px;stroke-linecap:butt;stroke-linejoin:miter;stroke-opacity:1\"/>\n",
       "<path class=\"bond-4 atom-4 atom-5\" d=\"M 10.0,100.0 L 36.5,54.1\" style=\"fill:none;fill-rule:evenodd;stroke:#000000;stroke-width:2.0px;stroke-linecap:butt;stroke-linejoin:miter;stroke-opacity:1\"/>\n",
       "<path class=\"bond-5 atom-5 atom-6\" d=\"M 36.5,54.1 L 59.3,54.1\" style=\"fill:none;fill-rule:evenodd;stroke:#000000;stroke-width:2.0px;stroke-linecap:butt;stroke-linejoin:miter;stroke-opacity:1\"/>\n",
       "<path class=\"bond-5 atom-5 atom-6\" d=\"M 59.3,54.1 L 82.1,54.1\" style=\"fill:none;fill-rule:evenodd;stroke:#0000FF;stroke-width:2.0px;stroke-linecap:butt;stroke-linejoin:miter;stroke-opacity:1\"/>\n",
       "<path class=\"bond-5 atom-5 atom-6\" d=\"M 41.1,62.0 L 61.6,62.0\" style=\"fill:none;fill-rule:evenodd;stroke:#000000;stroke-width:2.0px;stroke-linecap:butt;stroke-linejoin:miter;stroke-opacity:1\"/>\n",
       "<path class=\"bond-5 atom-5 atom-6\" d=\"M 61.6,62.0 L 82.1,62.0\" style=\"fill:none;fill-rule:evenodd;stroke:#0000FF;stroke-width:2.0px;stroke-linecap:butt;stroke-linejoin:miter;stroke-opacity:1\"/>\n",
       "<path class=\"bond-6 atom-6 atom-1\" d=\"M 94.9,63.3 L 105.4,81.7\" style=\"fill:none;fill-rule:evenodd;stroke:#0000FF;stroke-width:2.0px;stroke-linecap:butt;stroke-linejoin:miter;stroke-opacity:1\"/>\n",
       "<path class=\"bond-6 atom-6 atom-1\" d=\"M 105.4,81.7 L 116.0,100.0\" style=\"fill:none;fill-rule:evenodd;stroke:#000000;stroke-width:2.0px;stroke-linecap:butt;stroke-linejoin:miter;stroke-opacity:1\"/>\n",
       "<path d=\"M 90.8,143.6 L 89.5,145.9 L 88.4,145.9\" style=\"fill:none;stroke:#000000;stroke-width:2.0px;stroke-linecap:butt;stroke-linejoin:miter;stroke-opacity:1;\"/>\n",
       "<path d=\"M 10.5,100.9 L 10.0,100.0 L 11.3,97.7\" style=\"fill:none;stroke:#000000;stroke-width:2.0px;stroke-linecap:butt;stroke-linejoin:miter;stroke-opacity:1;\"/>\n",
       "<path d=\"M 35.2,56.4 L 36.5,54.1 L 37.6,54.1\" style=\"fill:none;stroke:#000000;stroke-width:2.0px;stroke-linecap:butt;stroke-linejoin:miter;stroke-opacity:1;\"/>\n",
       "<path class=\"atom-0\" d=\"M 162.1 100.0 Q 162.1 96.4, 163.9 94.4 Q 165.7 92.4, 169.0 92.4 Q 172.4 92.4, 174.1 94.4 Q 175.9 96.4, 175.9 100.0 Q 175.9 103.7, 174.1 105.8 Q 172.3 107.8, 169.0 107.8 Q 165.7 107.8, 163.9 105.8 Q 162.1 103.7, 162.1 100.0 M 169.0 106.1 Q 171.3 106.1, 172.5 104.6 Q 173.8 103.1, 173.8 100.0 Q 173.8 97.1, 172.5 95.6 Q 171.3 94.1, 169.0 94.1 Q 166.7 94.1, 165.5 95.6 Q 164.3 97.1, 164.3 100.0 Q 164.3 103.1, 165.5 104.6 Q 166.7 106.1, 169.0 106.1 \" fill=\"#FF0000\"/>\n",
       "<path class=\"atom-0\" d=\"M 178.3 92.6 L 180.3 92.6 L 180.3 99.0 L 188.0 99.0 L 188.0 92.6 L 190.0 92.6 L 190.0 107.6 L 188.0 107.6 L 188.0 100.7 L 180.3 100.7 L 180.3 107.6 L 178.3 107.6 L 178.3 92.6 \" fill=\"#FF0000\"/>\n",
       "<path class=\"atom-3\" d=\"M 33.2 138.4 L 38.1 146.4 Q 38.6 147.1, 39.4 148.6 Q 40.2 150.0, 40.2 150.1 L 40.2 138.4 L 42.2 138.4 L 42.2 153.4 L 40.1 153.4 L 34.9 144.7 Q 34.2 143.7, 33.6 142.5 Q 33.0 141.4, 32.8 141.0 L 32.8 153.4 L 30.8 153.4 L 30.8 138.4 L 33.2 138.4 \" fill=\"#0000FF\"/>\n",
       "<path class=\"atom-6\" d=\"M 86.2 46.6 L 91.1 54.5 Q 91.6 55.3, 92.4 56.7 Q 93.2 58.2, 93.2 58.2 L 93.2 46.6 L 95.2 46.6 L 95.2 61.6 L 93.1 61.6 L 87.9 52.9 Q 87.3 51.9, 86.6 50.7 Q 86.0 49.6, 85.8 49.2 L 85.8 61.6 L 83.8 61.6 L 83.8 46.6 L 86.2 46.6 \" fill=\"#0000FF\"/>\n",
       "<path class=\"bond-0 atom-0 atom-1\" d=\"M 360.4,100.0 L 338.2,100.0\" style=\"fill:none;fill-rule:evenodd;stroke:#FF0000;stroke-width:2.0px;stroke-linecap:butt;stroke-linejoin:miter;stroke-opacity:1\"/>\n",
       "<path class=\"bond-0 atom-0 atom-1\" d=\"M 338.2,100.0 L 316.0,100.0\" style=\"fill:none;fill-rule:evenodd;stroke:#000000;stroke-width:2.0px;stroke-linecap:butt;stroke-linejoin:miter;stroke-opacity:1\"/>\n",
       "<path class=\"bond-1 atom-1 atom-2\" d=\"M 316.0,100.0 L 289.5,145.9\" style=\"fill:none;fill-rule:evenodd;stroke:#000000;stroke-width:2.0px;stroke-linecap:butt;stroke-linejoin:miter;stroke-opacity:1\"/>\n",
       "<path class=\"bond-2 atom-2 atom-3\" d=\"M 289.5,145.9 L 266.7,145.9\" style=\"fill:none;fill-rule:evenodd;stroke:#000000;stroke-width:2.0px;stroke-linecap:butt;stroke-linejoin:miter;stroke-opacity:1\"/>\n",
       "<path class=\"bond-2 atom-2 atom-3\" d=\"M 266.7,145.9 L 243.9,145.9\" style=\"fill:none;fill-rule:evenodd;stroke:#0000FF;stroke-width:2.0px;stroke-linecap:butt;stroke-linejoin:miter;stroke-opacity:1\"/>\n",
       "<path class=\"bond-3 atom-3 atom-4\" d=\"M 231.2,136.7 L 220.6,118.3\" style=\"fill:none;fill-rule:evenodd;stroke:#0000FF;stroke-width:2.0px;stroke-linecap:butt;stroke-linejoin:miter;stroke-opacity:1\"/>\n",
       "<path class=\"bond-3 atom-3 atom-4\" d=\"M 220.6,118.3 L 210.0,100.0\" style=\"fill:none;fill-rule:evenodd;stroke:#000000;stroke-width:2.0px;stroke-linecap:butt;stroke-linejoin:miter;stroke-opacity:1\"/>\n",
       "<path class=\"bond-4 atom-4 atom-5\" d=\"M 210.0,100.0 L 236.5,54.1\" style=\"fill:none;fill-rule:evenodd;stroke:#000000;stroke-width:2.0px;stroke-linecap:butt;stroke-linejoin:miter;stroke-opacity:1\"/>\n",
       "<path class=\"bond-5 atom-5 atom-6\" d=\"M 236.5,54.1 L 259.3,54.1\" style=\"fill:none;fill-rule:evenodd;stroke:#000000;stroke-width:2.0px;stroke-linecap:butt;stroke-linejoin:miter;stroke-opacity:1\"/>\n",
       "<path class=\"bond-5 atom-5 atom-6\" d=\"M 259.3,54.1 L 282.1,54.1\" style=\"fill:none;fill-rule:evenodd;stroke:#0000FF;stroke-width:2.0px;stroke-linecap:butt;stroke-linejoin:miter;stroke-opacity:1\"/>\n",
       "<path class=\"bond-6 atom-6 atom-1\" d=\"M 294.9,63.3 L 305.4,81.7\" style=\"fill:none;fill-rule:evenodd;stroke:#0000FF;stroke-width:2.0px;stroke-linecap:butt;stroke-linejoin:miter;stroke-opacity:1\"/>\n",
       "<path class=\"bond-6 atom-6 atom-1\" d=\"M 305.4,81.7 L 316.0,100.0\" style=\"fill:none;fill-rule:evenodd;stroke:#000000;stroke-width:2.0px;stroke-linecap:butt;stroke-linejoin:miter;stroke-opacity:1\"/>\n",
       "<path d=\"M 290.8,143.6 L 289.5,145.9 L 288.4,145.9\" style=\"fill:none;stroke:#000000;stroke-width:2.0px;stroke-linecap:butt;stroke-linejoin:miter;stroke-opacity:1;\"/>\n",
       "<path d=\"M 210.5,100.9 L 210.0,100.0 L 211.3,97.7\" style=\"fill:none;stroke:#000000;stroke-width:2.0px;stroke-linecap:butt;stroke-linejoin:miter;stroke-opacity:1;\"/>\n",
       "<path d=\"M 235.2,56.4 L 236.5,54.1 L 237.6,54.1\" style=\"fill:none;stroke:#000000;stroke-width:2.0px;stroke-linecap:butt;stroke-linejoin:miter;stroke-opacity:1;\"/>\n",
       "<path class=\"atom-0\" d=\"M 362.1 100.0 Q 362.1 96.4, 363.9 94.4 Q 365.7 92.4, 369.0 92.4 Q 372.4 92.4, 374.1 94.4 Q 375.9 96.4, 375.9 100.0 Q 375.9 103.7, 374.1 105.8 Q 372.3 107.8, 369.0 107.8 Q 365.7 107.8, 363.9 105.8 Q 362.1 103.7, 362.1 100.0 M 369.0 106.1 Q 371.3 106.1, 372.5 104.6 Q 373.8 103.1, 373.8 100.0 Q 373.8 97.1, 372.5 95.6 Q 371.3 94.1, 369.0 94.1 Q 366.7 94.1, 365.5 95.6 Q 364.3 97.1, 364.3 100.0 Q 364.3 103.1, 365.5 104.6 Q 366.7 106.1, 369.0 106.1 \" fill=\"#FF0000\"/>\n",
       "<path class=\"atom-0\" d=\"M 378.3 92.6 L 380.3 92.6 L 380.3 99.0 L 388.0 99.0 L 388.0 92.6 L 390.0 92.6 L 390.0 107.6 L 388.0 107.6 L 388.0 100.7 L 380.3 100.7 L 380.3 107.6 L 378.3 107.6 L 378.3 92.6 \" fill=\"#FF0000\"/>\n",
       "<path class=\"atom-3\" d=\"M 216.1 138.4 L 218.1 138.4 L 218.1 144.8 L 225.8 144.8 L 225.8 138.4 L 227.9 138.4 L 227.9 153.4 L 225.8 153.4 L 225.8 146.5 L 218.1 146.5 L 218.1 153.4 L 216.1 153.4 L 216.1 138.4 \" fill=\"#0000FF\"/>\n",
       "<path class=\"atom-3\" d=\"M 233.2 138.4 L 238.1 146.4 Q 238.6 147.1, 239.4 148.6 Q 240.2 150.0, 240.2 150.1 L 240.2 138.4 L 242.2 138.4 L 242.2 153.4 L 240.1 153.4 L 234.9 144.7 Q 234.2 143.7, 233.6 142.5 Q 233.0 141.4, 232.8 141.0 L 232.8 153.4 L 230.8 153.4 L 230.8 138.4 L 233.2 138.4 \" fill=\"#0000FF\"/>\n",
       "<path class=\"atom-6\" d=\"M 286.2 46.6 L 291.1 54.5 Q 291.6 55.3, 292.4 56.7 Q 293.2 58.2, 293.2 58.2 L 293.2 46.6 L 295.2 46.6 L 295.2 61.6 L 293.1 61.6 L 287.9 52.9 Q 287.3 51.9, 286.6 50.7 Q 286.0 49.6, 285.8 49.2 L 285.8 61.6 L 283.8 61.6 L 283.8 46.6 L 286.2 46.6 \" fill=\"#0000FF\"/>\n",
       "<path class=\"atom-6\" d=\"M 298.1 46.6 L 300.2 46.6 L 300.2 53.0 L 307.8 53.0 L 307.8 46.6 L 309.9 46.6 L 309.9 61.6 L 307.8 61.6 L 307.8 54.7 L 300.2 54.7 L 300.2 61.6 L 298.1 61.6 L 298.1 46.6 \" fill=\"#0000FF\"/>\n",
       "</svg>"
      ],
      "text/plain": [
       "<IPython.core.display.SVG object>"
      ]
     },
     "execution_count": 41,
     "metadata": {},
     "output_type": "execute_result"
    }
   ],
   "source": [
    "import pandas as pd\n",
    "from rdkit import Chem\n",
    "from rdkit.Chem import Draw\n",
    "import numpy as np\n",
    "# Load the dataset (make sure to replace 'path_to_csv' with the actual path to your CSV file)\n",
    "QM9_G4MP2_all = pd.read_csv('QM9_G4MP2_all.csv')\n",
    "\n",
    "\n",
    "# Define your ranges for delta_H, pH2, and molar_mass\n",
    "delta_H_range = (40, 70)\n",
    "pH2_range = (5.5, 7)\n",
    "molar_mass_range = (50, 100)\n",
    "\n",
    "# Filter the dataset based on the specified ranges\n",
    "filtered_data = QM9_G4MP2_all[\n",
    "    (QM9_G4MP2_all['delta_H'].between(*delta_H_range)) &\n",
    "    (QM9_G4MP2_all['pH2'].between(*pH2_range)) &\n",
    "    (QM9_G4MP2_all['molar_mass'].between(*molar_mass_range))\n",
    "]\n",
    "\n",
    "# Take a random sample of 10 rows from the filtered data if there are more than 10\n",
    "if len(filtered_data) > 1:\n",
    "    filtered_data = filtered_data.sample(n=1)\n",
    "\n",
    "# Rename columns to match the desired output format and only select the relevant columns\n",
    "result_table = filtered_data[['unsat_SMILE', 'sat_SMILE', 'delta_H', 'pH2']]\n",
    "result_table.columns = ['molecule1', 'molecule2', 'deltaH', '%wt H2']\n",
    "\n",
    "# Function to display molecule images from SMILES strings\n",
    "def display_molecules(smiles_list):\n",
    "    molecules = [Chem.MolFromSmiles(smile) for smile in smiles_list]\n",
    "    img = Draw.MolsToGridImage(molecules, molsPerRow=10, subImgSize=(200, 200), useSVG=True)\n",
    "    return img\n",
    "\n",
    "# Apply this function to the 'unsat_SMILE' column of the result_table\n",
    "for idx, row in result_table.iterrows():\n",
    "    img = display_molecules([row['molecule1'], row['molecule2']])\n",
    "    print(\"Unsaturated SMILES: \", row['molecule1'])\n",
    "    print(\"Saturated SMILES: \", row['molecule2'])\n",
    "\n",
    "    print(f\"deltaH: {np.around(row['deltaH'],2)}\"),\n",
    "    print(f\"%wt H2: {np.around(row['%wt H2'],2)}\")\n",
    "\n",
    "img"
   ]
  },
  {
   "cell_type": "code",
   "execution_count": null,
   "metadata": {
    "id": "L5inam9xScUh"
   },
   "outputs": [],
   "source": []
  },
  {
   "cell_type": "code",
   "execution_count": 35,
   "metadata": {
    "executionInfo": {
     "elapsed": 118,
     "status": "ok",
     "timestamp": 1708613272847,
     "user": {
      "displayName": "Hassan Harb",
      "userId": "12664388221851730801"
     },
     "user_tz": 360
    },
    "id": "ZmfeGuA0RYnK"
   },
   "outputs": [],
   "source": []
  },
  {
   "cell_type": "code",
   "execution_count": 22,
   "metadata": {
    "executionInfo": {
     "elapsed": 113,
     "status": "ok",
     "timestamp": 1708613161242,
     "user": {
      "displayName": "Hassan Harb",
      "userId": "12664388221851730801"
     },
     "user_tz": 360
    },
    "id": "uZnWuENTPBXn"
   },
   "outputs": [],
   "source": []
  },
  {
   "cell_type": "code",
   "execution_count": 35,
   "metadata": {
    "executionInfo": {
     "elapsed": 115,
     "status": "ok",
     "timestamp": 1708613274358,
     "user": {
      "displayName": "Hassan Harb",
      "userId": "12664388221851730801"
     },
     "user_tz": 360
    },
    "id": "VlCPfFOePFvR"
   },
   "outputs": [],
   "source": []
  }
 ],
 "metadata": {
  "colab": {
   "authorship_tag": "ABX9TyOxqHZPMFgxXYzB0+EUAaa9",
   "mount_file_id": "1Z7m3CUIaMyGioBbP3JnX-uyzALhPbPFX",
   "provenance": []
  },
  "kernelspec": {
   "display_name": "Python 3 (ipykernel)",
   "language": "python",
   "name": "python3"
  },
  "language_info": {
   "codemirror_mode": {
    "name": "ipython",
    "version": 3
   },
   "file_extension": ".py",
   "mimetype": "text/x-python",
   "name": "python",
   "nbconvert_exporter": "python",
   "pygments_lexer": "ipython3",
   "version": "3.9.12"
  }
 },
 "nbformat": 4,
 "nbformat_minor": 1
}
